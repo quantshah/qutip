{
 "cells": [
  {
   "cell_type": "markdown",
   "metadata": {},
   "source": [
    "# Kerr resonators\n",
    "\n",
    "Kerr resonator simulations. Please note that the code is in development and has not been tested. The relevant article for the theory can be found in:\n",
    "\n",
    "*Bartolo, Nicola, et al. \"Exact steady state of a Kerr resonator with one-and two-photon driving and dissipation: Controllable Wigner-function multimodality and dissipative phase transitions.\" Physical Review A 94.3 (2016): 033841.*\n",
    "\n",
    "Correlation and Wigner functions are defined using the following:\n",
    "\n",
    "$$ F_m(f, g, c) = (i\\sqrt{g})^m \\bigg[. _2F_1(-m, -c -i\\frac{f}{\\sqrt{g}};-2c;2)\\bigg]$$\n",
    "Here, $_2F_1$ is the Gauss hypergeometric function defined for $|z|\\le1$:\n",
    "$$_2F_1(a, b, c, z)=\\sum_{n=0}^\\inf \\frac{(a)_n (b)_n}{(c)_n} \\frac{z^n}{n!} $$\n",
    "The normalization is given by:\n",
    "$$N = \\sum_{m=0}^\\inf \\frac{2^m}{m!} |F_m(f, g,c)|^2$$\n",
    "Once we have this we can get the correlation function:\n",
    "$$<\\hat a^{\\dagger i}\\hat a^j> = \\frac{1}{N}\\sum_{m=0}^{inf}F_{m+j}(f, g, c) F^*_{m+i}(f, g, c)$$\n",
    "and the Wigner function as:\n",
    "$$W(z)=\\frac{2}{\\pi N}\\bigg|\\sum_{m=0}^{\\inf} \\frac{(2z^*)^m}{m!}F_m(f, g, c)\\bigg|^2e^{-2|z|^2}$$"
   ]
  },
  {
   "cell_type": "code",
   "execution_count": null,
   "metadata": {
    "collapsed": true
   },
   "outputs": [],
   "source": [
    "from qutip.models.kerr import Kerr\n",
    "import numpy as np\n",
    "import matplotlib.pyplot as plt\n",
    "\n",
    "%matplotlib inline"
   ]
  },
  {
   "cell_type": "code",
   "execution_count": 8,
   "metadata": {},
   "outputs": [],
   "source": [
    "U = np.arange(-6, 6, 1)\n",
    "delta = 28*U\n",
    "gam = 0.1*U\n",
    "eta = 0.1*U\n",
    "\n",
    "f = 1/(U - eta*(1j))\n",
    "g = 1/(U - eta*(1j))\n",
    "c = (delta + (1j*gam)/2.)/(U - eta*(1j))"
   ]
  },
  {
   "cell_type": "code",
   "execution_count": 3,
   "metadata": {},
   "outputs": [],
   "source": [
    "system = Kerr(f[0], g[0], c[0])"
   ]
  },
  {
   "cell_type": "code",
   "execution_count": 4,
   "metadata": {},
   "outputs": [
    {
     "name": "stdout",
     "output_type": "stream",
     "text": [
      "Normalization 1.01190474292\n"
     ]
    }
   ],
   "source": [
    "print(\"Normalization\", system.normalization())"
   ]
  },
  {
   "cell_type": "code",
   "execution_count": 5,
   "metadata": {
    "collapsed": true
   },
   "outputs": [],
   "source": [
    "x = y = np.arange(-6, 6, 0.1)"
   ]
  },
  {
   "cell_type": "code",
   "execution_count": 6,
   "metadata": {
    "collapsed": true
   },
   "outputs": [],
   "source": [
    "X, Y = np.meshgrid(x, y)\n",
    "Z = system.wigner(X+(1j)*Y)"
   ]
  },
  {
   "cell_type": "code",
   "execution_count": 7,
   "metadata": {},
   "outputs": [
    {
     "name": "stdout",
     "output_type": "stream",
     "text": [
      "Wigner plot for f = (-0.16501650165016502-0.016501650165016504j) \n",
      " g = (-0.16501650165016502-0.016501650165016504j) \n",
      " c = (27.717821782178216+2.8217821782178225j)\n"
     ]
    },
    {
     "data": {
      "image/png": "[encoded data removed]",
      "text/plain": [
       "<matplotlib.figure.Figure at 0x11a56a080>"
      ]
     },
     "metadata": {},
     "output_type": "display_data"
    }
   ],
   "source": [
    "print(\"Wigner plot for f = {} \\n g = {} \\n c = {}\".format(f[0], g[0], c[0]))\n",
    "plt.contour(X, Y, Z)\n",
    "plt.title(\"Wigner plot\")\n",
    "plt.ylabel(\"Real(z)\")\n",
    "plt.xlabel(\"Imag(z)\")\n",
    "plt.grid()\n",
    "plt.colorbar()\n",
    "plt.show()"
   ]
  },
  {
   "cell_type": "code",
   "execution_count": null,
   "metadata": {
    "collapsed": true
   },
   "outputs": [],
   "source": []
  }
 ],
 "metadata": {
  "kernelspec": {
   "display_name": "Python 3",
   "language": "python",
   "name": "python3"
  },
  "language_info": {
   "codemirror_mode": {
    "name": "ipython",
    "version": 3
   },
   "file_extension": ".py",
   "mimetype": "text/x-python",
   "name": "python",
   "nbconvert_exporter": "python",
   "pygments_lexer": "ipython3",
   "version": "3.6.2"
  }
 },
 "nbformat": 4,
 "nbformat_minor": 2
}
